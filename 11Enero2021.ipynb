{
  "nbformat": 4,
  "nbformat_minor": 0,
  "metadata": {
    "colab": {
      "name": "11Enero2021.ipynb",
      "provenance": [],
      "authorship_tag": "ABX9TyPFqzCsCMpABPcp03R7JD2b",
      "include_colab_link": true
    },
    "kernelspec": {
      "name": "python3",
      "display_name": "Python 3"
    }
  },
  "cells": [
    {
      "cell_type": "markdown",
      "metadata": {
        "id": "view-in-github",
        "colab_type": "text"
      },
      "source": [
        "<a href=\"https://colab.research.google.com/github/ElydeAngel/daa_2021_1/blob/master/11Enero2021.ipynb\" target=\"_parent\"><img src=\"https://colab.research.google.com/assets/colab-badge.svg\" alt=\"Open In Colab\"/></a>"
      ]
    },
    {
      "cell_type": "code",
      "metadata": {
        "id": "avECKpeC9oTO"
      },
      "source": [
        "class NodoArbol:\r\n",
        "  def __init__(self, value, left=None, right=None):\r\n",
        "    self.data = value\r\n",
        "    self.left = left\r\n",
        "    self.right = right"
      ],
      "execution_count": 1,
      "outputs": []
    },
    {
      "cell_type": "code",
      "metadata": {
        "id": "NiSIjyDH9lEC"
      },
      "source": [
        "arbol = NodoArbol(\"R\", NodoArbol(\"C\"), NodoArbol(\"H\") )"
      ],
      "execution_count": 3,
      "outputs": []
    },
    {
      "cell_type": "code",
      "metadata": {
        "id": "-cmMv449-O_M"
      },
      "source": [
        "nodo1 = NodoArbol(\"C\")\r\n",
        "nodo2 = NodoArbol(\"H\")\r\n",
        "arbol_v2 = NodoArbol(\"R\", nodo1, nodo2)"
      ],
      "execution_count": 5,
      "outputs": []
    },
    {
      "cell_type": "code",
      "metadata": {
        "colab": {
          "base_uri": "https://localhost:8080/"
        },
        "id": "XIAmZ_S2_KAu",
        "outputId": "e18bec09-7a7c-4e65-8995-84136a6efb38"
      },
      "source": [
        "print(arbol.right.data)\r\n",
        "print(arbol_v2.right.data)"
      ],
      "execution_count": 6,
      "outputs": [
        {
          "output_type": "stream",
          "text": [
            "H\n",
            "H\n"
          ],
          "name": "stdout"
        }
      ]
    },
    {
      "cell_type": "code",
      "metadata": {
        "colab": {
          "base_uri": "https://localhost:8080/"
        },
        "id": "SSxU2W5p_WM6",
        "outputId": "0b3b22f6-4808-4b1b-be85-40980cc6e065"
      },
      "source": [
        "arbol2 = NodoArbol(4, NodoArbol(3, NodoArbol(2, NodoArbol(2))), NodoArbol(5, None, None))\r\n",
        "# El 4 es la raiz, despues de la coma viene el hijo NodoArbol 3 e hijo NodoArbol 5\r\n",
        "# Los nodos que vienen dentro de NodoArbol 3, son hijos de ése y se sigue la misma idea\r\n",
        "\r\n",
        "print(arbol2.left.left.left.data) #Se imprime el nodo mas alejado de nuestro ejemplo\r\n"
      ],
      "execution_count": 9,
      "outputs": [
        {
          "output_type": "stream",
          "text": [
            "2\n"
          ],
          "name": "stdout"
        }
      ]
    },
    {
      "cell_type": "code",
      "metadata": {
        "colab": {
          "base_uri": "https://localhost:8080/"
        },
        "id": "jUxLiw7jAD1k",
        "outputId": "7c9e434a-89f3-415c-bbae-b23f166e28c3"
      },
      "source": [
        "aux = arbol2\r\n",
        "while aux.left != None: #Con esto se recorre el lado izq del arbol hasta encontrar el mas lejos\r\n",
        "  aux = aux.left\r\n",
        "\r\n",
        "  print(aux.data)"
      ],
      "execution_count": 10,
      "outputs": [
        {
          "output_type": "stream",
          "text": [
            "3\n",
            "2\n",
            "2\n"
          ],
          "name": "stdout"
        }
      ]
    },
    {
      "cell_type": "code",
      "metadata": {
        "colab": {
          "base_uri": "https://localhost:8080/"
        },
        "id": "0_aLIjwaEil7",
        "outputId": "3d488b6d-2686-4d98-a1cf-c1973282bce6"
      },
      "source": [
        "arbol3 = NodoArbol(\"Santi\", None, NodoArbol(\"Jesus\", NodoArbol(\"Pedro\", None, NodoArbol(\"Diana\")), None))\r\n",
        "\r\n",
        "print(arbol3.right.left.right.data)"
      ],
      "execution_count": 16,
      "outputs": [
        {
          "output_type": "stream",
          "text": [
            "Diana\n"
          ],
          "name": "stdout"
        }
      ]
    },
    {
      "cell_type": "code",
      "metadata": {
        "id": "EWkOMS25Ft9c"
      },
      "source": [
        ""
      ],
      "execution_count": null,
      "outputs": []
    }
  ]
}