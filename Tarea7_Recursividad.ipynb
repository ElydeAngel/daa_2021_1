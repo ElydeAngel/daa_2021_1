{
  "nbformat": 4,
  "nbformat_minor": 0,
  "metadata": {
    "colab": {
      "name": "Tarea7_Recursividad.ipynb",
      "provenance": [],
      "authorship_tag": "ABX9TyO04oEEK+7j6Fp/C2DTlPvx",
      "include_colab_link": true
    },
    "kernelspec": {
      "name": "python3",
      "display_name": "Python 3"
    }
  },
  "cells": [
    {
      "cell_type": "markdown",
      "metadata": {
        "id": "view-in-github",
        "colab_type": "text"
      },
      "source": [
        "<a href=\"https://colab.research.google.com/github/ElydeAngel/daa_2021_1/blob/master/Tarea7_Recursividad.ipynb\" target=\"_parent\"><img src=\"https://colab.research.google.com/assets/colab-badge.svg\" alt=\"Open In Colab\"/></a>"
      ]
    },
    {
      "cell_type": "markdown",
      "metadata": {
        "id": "fXPgfDg-_AOy"
      },
      "source": [
        "#**TAREA 7**\n",
        "#*Recursividad*\n",
        "\n",
        "---\n",
        "\n"
      ]
    },
    {
      "cell_type": "markdown",
      "metadata": {
        "id": "FYEpWRcn2VXq"
      },
      "source": [
        "##Suma con Recursividad\n",
        "Crear una lista de enteros en Python y realizar la suma con recursividad, el caso base es cuando la lista este vacía."
      ]
    },
    {
      "cell_type": "code",
      "metadata": {
        "colab": {
          "base_uri": "https://localhost:8080/"
        },
        "id": "_Sh4ljUDP6cN",
        "outputId": "3e1240b5-f9b0-47f4-8591-8a0d5431a447"
      },
      "source": [
        "lista=[]\n",
        "valor=int(input(\"Ingresa un valor a la lista (0 para finalizar):\"))\n",
        "while valor!=0:\n",
        "    lista.append(valor)\n",
        "    valor=int(input(\"Ingresa un valor a la lista (0 para finalizar):\")) #Creación de la lista de enteros\n",
        "print(lista)\n",
        "\n",
        "def suma_recursiva(num):  \n",
        "    if len(num) == 0:                         #Caso base cuando la lista esta vacia\n",
        "        return 0\n",
        "    else:\n",
        "      ultimo_num = num.pop()\n",
        "      return ultimo_num + suma_recursiva(num) #Se llama a sí misma y suma el ultimo numero de la lista\n",
        "\n",
        "print('La suma recursiva de la lista es:', suma_recursiva(lista))\n"
      ],
      "execution_count": 136,
      "outputs": [
        {
          "output_type": "stream",
          "text": [
            "Ingresa un valor a la lista (0 para finalizar):3\n",
            "Ingresa un valor a la lista (0 para finalizar):10\n",
            "Ingresa un valor a la lista (0 para finalizar):9\n",
            "Ingresa un valor a la lista (0 para finalizar):0\n",
            "[3, 10, 9]\n",
            "La suma recursiva de la lista es: 22\n"
          ],
          "name": "stdout"
        }
      ]
    },
    {
      "cell_type": "markdown",
      "metadata": {
        "id": "o3NCh2Zf3vkx"
      },
      "source": [
        "##Contador Regresivo\n",
        "Hacer un contador regresivo con recursión.\n"
      ]
    },
    {
      "cell_type": "code",
      "metadata": {
        "colab": {
          "base_uri": "https://localhost:8080/"
        },
        "id": "zsggd-0c33z1",
        "outputId": "f6b7321d-2ec1-42d4-d9a7-f56bd21bb195"
      },
      "source": [
        "valor=int(input(\"¿Desde dónde quieres empezar tu cuenta regresiva? Desde\"))\n",
        "\n",
        "def cuenta_regresiva( x ):\n",
        "  if x == 0:\n",
        "    return x\n",
        "  else:\n",
        "    print( x )\n",
        "    return (cuenta_regresiva( x-1 ))\n",
        "\n",
        "print(cuenta_regresiva( valor ))"
      ],
      "execution_count": 137,
      "outputs": [
        {
          "output_type": "stream",
          "text": [
            "¿Desde dónde quieres empezar tu cuenta regresiva? Desde:10\n",
            "10\n",
            "9\n",
            "8\n",
            "7\n",
            "6\n",
            "5\n",
            "4\n",
            "3\n",
            "2\n",
            "1\n",
            "0\n"
          ],
          "name": "stdout"
        }
      ]
    },
    {
      "cell_type": "markdown",
      "metadata": {
        "id": "SOnEvoC30yJL"
      },
      "source": [
        "##Posición media de una pila\n",
        "Sacar de un ADT pila el valor en la posición media."
      ]
    },
    {
      "cell_type": "code",
      "metadata": {
        "colab": {
          "base_uri": "https://localhost:8080/"
        },
        "id": "qNPFbOpImbnG",
        "outputId": "d0167292-df4d-47a3-86c0-dc1d2bbca022"
      },
      "source": [
        "lista=[]\n",
        "for x in range(10):                       #Crea una lista de 10 elementos\n",
        "    valor=int(input(\"Ingrese valor:\"))\n",
        "    lista.append(valor)                   #Los elementos se van agregando a la lista \n",
        "\n",
        "print(lista)\n",
        "\n",
        "posicion=0\n",
        "while posicion < len(lista):\n",
        "    if lista[posicion] == 5:\n",
        "        lista.pop(posicion)     #Quita la posición de la mitad\n",
        "    else:\n",
        "        posicion = posicion +1     #Elementos de la lista se desplazan 1 posicion\n",
        "    \n",
        "print(lista)    "
      ],
      "execution_count": 156,
      "outputs": [
        {
          "output_type": "stream",
          "text": [
            "Ingrese valor:1\n",
            "Ingrese valor:2\n",
            "Ingrese valor:4\n",
            "Ingrese valor:5\n",
            "Ingrese valor:6\n",
            "Ingrese valor:7\n",
            "Ingrese valor:8\n",
            "Ingrese valor:9\n",
            "Ingrese valor:4\n",
            "Ingrese valor:2\n",
            "[1, 2, 4, 5, 6, 7, 8, 9, 4, 2]\n",
            "[1, 2, 4, 5, 6, 7, 8, 9, 4, 2]\n"
          ],
          "name": "stdout"
        }
      ]
    }
  ]
}