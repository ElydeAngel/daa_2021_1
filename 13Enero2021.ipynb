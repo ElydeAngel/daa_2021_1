{
  "nbformat": 4,
  "nbformat_minor": 0,
  "metadata": {
    "colab": {
      "name": "13Enero2021.ipynb",
      "provenance": [],
      "authorship_tag": "ABX9TyOuk+rL/YdVxH8XVLfcJhBz",
      "include_colab_link": true
    },
    "kernelspec": {
      "name": "python3",
      "display_name": "Python 3"
    }
  },
  "cells": [
    {
      "cell_type": "markdown",
      "metadata": {
        "id": "view-in-github",
        "colab_type": "text"
      },
      "source": [
        "<a href=\"https://colab.research.google.com/github/ElydeAngel/daa_2021_1/blob/master/13Enero2021.ipynb\" target=\"_parent\"><img src=\"https://colab.research.google.com/assets/colab-badge.svg\" alt=\"Open In Colab\"/></a>"
      ]
    },
    {
      "cell_type": "code",
      "metadata": {
        "id": "Ulw8L1qbO5DN"
      },
      "source": [
        "class NodoArbol:\r\n",
        "    def __init__( self , dato ,  hijo_izq=None , hijo_der=None):\r\n",
        "        self.dato = dato\r\n",
        "        self.left = hijo_izq\r\n",
        "        self.right = hijo_der"
      ],
      "execution_count": 2,
      "outputs": []
    },
    {
      "cell_type": "markdown",
      "metadata": {
        "id": "n3AOWiEZO-Q8"
      },
      "source": [
        "#Árbol Binario de búsqueda\r\n",
        "Los nodos a la IZQUIERDA son MENORES a la raiz y los nodos a la DERECHA son MAYORES a la raíz.\r\n",
        "> Pueden ser recorridos en:\r\n",
        "* pre-orden\r\n",
        "* in-orden\r\n",
        "* post-orden"
      ]
    },
    {
      "cell_type": "code",
      "metadata": {
        "id": "bDBnb065S4O8"
      },
      "source": [
        "class BinarySearchTree:\r\n",
        "  def __init__( self ):\r\n",
        "    self.__root = None\r\n",
        "  \r\n",
        "  def insert( self , value ):\r\n",
        "    if self.__root == None:\r\n",
        "      self.__root = NodoArbol(value,None,None)\r\n",
        "    else:\r\n",
        "      #Preguntar si value es menor que root, de ser el caso,\r\n",
        "      #insertar a la izquierda, PERO puede ser el caso que el\r\n",
        "      #sub-arbol izquierdo ya tenga muchos elementos\r\n",
        "      self.__insert_nodo__( self.__root , value )   #se envia una copia de la raiz y el valor\r\n",
        "\r\n",
        "  def __insert_nodo__( self , nodo , value ):\r\n",
        "    if nodo.dato == value:      #si ya existe un valor igual\r\n",
        "      pass                      #pasar\r\n",
        "    elif value < nodo.dato:   #True va a la IZQ - Si el valor es menor que el dato en el nodo\r\n",
        "      if nodo.left == None:   #si hay espacio en la izq, ahi le toca\r\n",
        "        nodo.left = NodoArbol(value, None,None) #Insertamos el nodo\r\n",
        "      else:\r\n",
        "        self.__insert_nodo__( nodo.left , value )  #Buscar en sub arbor izq\r\n",
        "    else:\r\n",
        "      if nodo-right == None:\r\n",
        "        nodo.right = NodoArbol(value, None, None)\r\n",
        "      else:\r\n",
        "        self.__insert_nodo__( nodo.right , value ) #Buscar en sub arbol FDER\r\n",
        "\r\n",
        "\r\n"
      ],
      "execution_count": 3,
      "outputs": []
    },
    {
      "cell_type": "code",
      "metadata": {
        "id": "QP2RE_9wbt8W"
      },
      "source": [
        "bat = BinarySearchTree()\r\n",
        "bat.insert(50)\r\n",
        "bat.insert(30)\r\n",
        "bat.insert(20)\r\n",
        "bat.search(30)  # True o False?"
      ],
      "execution_count": null,
      "outputs": []
    }
  ]
}