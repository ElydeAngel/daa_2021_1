{
  "nbformat": 4,
  "nbformat_minor": 0,
  "metadata": {
    "colab": {
      "name": "20Enero2021.ipynb",
      "provenance": [],
      "authorship_tag": "ABX9TyPzHmozd0cBOK7ymie1iwpg",
      "include_colab_link": true
    },
    "kernelspec": {
      "name": "python3",
      "display_name": "Python 3"
    }
  },
  "cells": [
    {
      "cell_type": "markdown",
      "metadata": {
        "id": "view-in-github",
        "colab_type": "text"
      },
      "source": [
        "<a href=\"https://colab.research.google.com/github/ElydeAngel/daa_2021_1/blob/master/20Enero2021.ipynb\" target=\"_parent\"><img src=\"https://colab.research.google.com/assets/colab-badge.svg\" alt=\"Open In Colab\"/></a>"
      ]
    },
    {
      "cell_type": "code",
      "metadata": {
        "id": "Ulw8L1qbO5DN"
      },
      "source": [
        "class NodoArbol:\r\n",
        "    def __init__( self , dato ,  hijo_izq=None , hijo_der=None):\r\n",
        "        self.dato = dato\r\n",
        "        self.left = hijo_izq\r\n",
        "        self.right = hijo_der"
      ],
      "execution_count": 6,
      "outputs": []
    },
    {
      "cell_type": "markdown",
      "metadata": {
        "id": "n3AOWiEZO-Q8"
      },
      "source": [
        "#Árbol Binario de búsqueda\r\n",
        "Los nodos a la IZQUIERDA son MENORES a la raiz y los nodos a la DERECHA son MAYORES a la raíz.\r\n",
        "> Pueden ser recorridos en:\r\n",
        "* pre-orden\r\n",
        "* in-orden\r\n",
        "* post-orden"
      ]
    },
    {
      "cell_type": "code",
      "metadata": {
        "id": "bDBnb065S4O8"
      },
      "source": [
        "class BinarySearchTree:\r\n",
        "  def __init__( self ):\r\n",
        "    self.__root = None\r\n",
        "  \r\n",
        "  def insert( self , value ):\r\n",
        "    if self.__root == None:\r\n",
        "      self.__root = NodoArbol(value,None,None)\r\n",
        "    else:\r\n",
        "      #Preguntar si value es menor que root, de ser el caso,\r\n",
        "      #insertar a la izquierda, PERO puede ser el caso que el\r\n",
        "      #sub-arbol izquierdo ya tenga muchos elementos\r\n",
        "      self.__insert_nodo__( self.__root , value )   #se envia una copia de la raiz y el valor\r\n",
        "\r\n",
        "  def __insert_nodo__( self , nodo , value ):   #o(n) = log2(n)\r\n",
        "    if nodo.dato == value:      #si ya existe un valor igual\r\n",
        "      pass                      #pasar\r\n",
        "    elif value < nodo.dato:   #True va a la IZQ - Si el valor es menor que el dato en el nodo\r\n",
        "      if nodo.left == None:   #si hay espacio en la izq, ahi le toca\r\n",
        "        nodo.left = NodoArbol(value, None,None) #Insertamos el nodo\r\n",
        "      else:\r\n",
        "        self.__insert_nodo__( nodo.left , value )  #Buscar en sub arbor izq\r\n",
        "    else:\r\n",
        "      if nodo-right == None:\r\n",
        "        nodo.right = NodoArbol(value, None, None)\r\n",
        "      else:\r\n",
        "        self.__insert_nodo__( nodo.right , value ) #Buscar en sub arbol FDER\r\n",
        "\r\n",
        "  def buscar( self , value ):\r\n",
        "    if self.__root == None:\r\n",
        "      return None\r\n",
        "    else:\r\n",
        "      # Haremos una busqueda recursiva\r\n",
        "      return self.__busca_nodo( self.__root , value )\r\n",
        "  \r\n",
        "  def __busca_nodo( self , nodo , value ):\r\n",
        "    if nodo == None:       #No encuentra nada\r\n",
        "      return None               #regresa nada\r\n",
        "    elif nodo.dato == value:    # si encontro un valor\r\n",
        "      return nodo.dato               #regresa el nodo\r\n",
        "    elif value < nodo.dato:       #Si el valor es menor al nodo\r\n",
        "      return self.__busca_nodo( nodo.left , value )   #regresa nodo izq\r\n",
        "    else:\r\n",
        "      return self.__busca_nodo( nodo.right , value )   #regresa nodo derecho\r\n",
        "\r\n",
        "  def transversal( self , format=\"inorden\" ):\r\n",
        "    if format == \"inorden\":               #hijo der, raiz, izq\r\n",
        "      self,__recorrido_in( self.root )\r\n",
        "    elif format == \"preorden\":            #raiz, der, izq\r\n",
        "      self.__recorrido_pre(self.__root)\r\n",
        "    elif format == \"posorden\":            #raiz, izq, der\r\n",
        "      self.__recorrido_pos(self.__root)\r\n",
        "    else:\r\n",
        "      print(\"Formato de recorrido NO valido\")\r\n",
        "  \r\n",
        "  def __recorrido_pre( self , nodo ):\r\n",
        "    if nodo != None:\r\n",
        "      print(nodo.dato , end = \",\")\r\n",
        "      self.__recorrido_pre( nodo.left )\r\n",
        "      self.__recorrido_pre( nodo.right )\r\n",
        "\r\n",
        "  def __recorrido_in( self , nodo ):\r\n",
        "    if nodo != None:\r\n",
        "      self.__recorrido_in(nodo.left)\r\n",
        "      print(nodo.dato , end = \",\")\r\n",
        "      self.__recorrido_in(nodo.right)\r\n",
        "\r\n",
        "  def __recorrido_pos( self , nodo ):\r\n",
        "    if nodo != None:\r\n",
        "      self.__recorrido_pos(nodo.left)\r\n",
        "      self.__recorrido_pos(nodo,right)\r\n",
        "      print(nodo.dato , end=\",\" )\r\n"
      ],
      "execution_count": 21,
      "outputs": []
    },
    {
      "cell_type": "code",
      "metadata": {
        "id": "QP2RE_9wbt8W",
        "colab": {
          "base_uri": "https://localhost:8080/"
        },
        "outputId": "b4bc596f-1373-4622-d465-7a1f9440f988"
      },
      "source": [
        "bat = BinarySearchTree()\r\n",
        "bat.insert(50)\r\n",
        "bat.insert(30)\r\n",
        "bat.insert(20)\r\n",
        "res = bat.buscar(30)  # True o False?\r\n",
        "\r\n",
        "print (\"Dato: \" , str(res))\r\n",
        "print( bat.buscar(40) )\r\n",
        "print(\"recorrido:\")\r\n",
        "bat.transversal(format=\"preorden\")\r\n",
        "print(\"recorrido:\")\r\n"
      ],
      "execution_count": 24,
      "outputs": [
        {
          "output_type": "stream",
          "text": [
            "Dato:  30\n",
            "None\n",
            "recorrido:\n",
            "50,30,20,recorrido:\n"
          ],
          "name": "stdout"
        }
      ]
    }
  ]
}