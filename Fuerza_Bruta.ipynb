{
  "nbformat": 4,
  "nbformat_minor": 0,
  "metadata": {
    "colab": {
      "name": "Fuerza_Bruta.ipynb",
      "provenance": [],
      "authorship_tag": "ABX9TyPi0LVMJHBhdUNg31xbIYPw",
      "include_colab_link": true
    },
    "kernelspec": {
      "name": "python3",
      "display_name": "Python 3"
    }
  },
  "cells": [
    {
      "cell_type": "markdown",
      "metadata": {
        "id": "view-in-github",
        "colab_type": "text"
      },
      "source": [
        "<a href=\"https://colab.research.google.com/github/ElydeAngel/daa_2021_1/blob/master/Fuerza_Bruta.ipynb\" target=\"_parent\"><img src=\"https://colab.research.google.com/assets/colab-badge.svg\" alt=\"Open In Colab\"/></a>"
      ]
    },
    {
      "cell_type": "code",
      "metadata": {
        "colab": {
          "base_uri": "https://localhost:8080/"
        },
        "id": "eQVe-SUxhFip",
        "outputId": "6ec7f7e1-9dca-4257-b18b-fe5fc2fdac4a"
      },
      "source": [
        "import re\n",
        "\n",
        "frase = \"El lema que anima a la Universidad Nacional, Por mi raza hablará el espíritu, revela la vocación humanística con la que fue concebida. El autor de esta célebre frase, José Vasconcelos, asumió la rectoría en 1920, en una época en que las esperanzas de la Revolución aún estaban vivas, había una gran fe en la Patria y el ánimo redentor se extendía en el ambiente.\"\n",
        "frase_lower = frase.lower()                               # Para volver minusculas \n",
        "salida = re.sub(r'[^\\w\\ frase_lower]','',frase_lower)     # Quitar puntuacion\n",
        "print(salida)\n",
        "\n",
        "buscar = input(\"Cuál es la palabra que desea? \")\n",
        "contador = 0\n",
        "lista = salida.split()                                    # Separo la frase en palabras y se hace una lista\n",
        "\n",
        "for palabra in lista:\n",
        "  if palabra == buscar:\n",
        "    contador += 1;\n",
        "if contador == 0:\n",
        "  print(\"La palabra '\" + buscar + \"' no aparece\")\n",
        "elif contador == 1:\n",
        "  print(\"La palabra '\" + buscar + \"' aparece una vez\")\n",
        "else:\n",
        "  print(\"La palabra '\" + buscar + \"' aparece\", contador, \"veces\")"
      ],
      "execution_count": 15,
      "outputs": [
        {
          "output_type": "stream",
          "text": [
            "el lema que anima a la universidad nacional por mi raza hablará el espíritu revela la vocación humanística con la que fue concebida el autor de esta célebre frase josé vasconcelos asumió la rectoría en 1920 en una época en que las esperanzas de la revolución aún estaban vivas había una gran fe en la patria y el ánimo redentor se extendía en el ambiente\n",
            "Cuál es la palabra que desea? la\n",
            "La palabra 'la' aparece 6 veces\n"
          ],
          "name": "stdout"
        }
      ]
    }
  ]
}