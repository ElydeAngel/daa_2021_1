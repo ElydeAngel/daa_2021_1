{
  "nbformat": 4,
  "nbformat_minor": 0,
  "metadata": {
    "colab": {
      "name": "28Septiembre.ipynb",
      "provenance": [],
      "authorship_tag": "ABX9TyP+yqwqBD9YsQfdJFNrQ5fS",
      "include_colab_link": true
    },
    "kernelspec": {
      "name": "python3",
      "display_name": "Python 3"
    }
  },
  "cells": [
    {
      "cell_type": "markdown",
      "metadata": {
        "id": "view-in-github",
        "colab_type": "text"
      },
      "source": [
        "<a href=\"https://colab.research.google.com/github/ElydeAngel/daa_2021_1/blob/master/28Septiembre.ipynb\" target=\"_parent\"><img src=\"https://colab.research.google.com/assets/colab-badge.svg\" alt=\"Open In Colab\"/></a>"
      ]
    },
    {
      "cell_type": "markdown",
      "metadata": {
        "id": "dc6jMjUtC0Jo"
      },
      "source": [
        "# Sección **1**"
      ]
    },
    {
      "cell_type": "markdown",
      "metadata": {
        "id": "jDb90dp6DcKc"
      },
      "source": [
        "En este archivo aprenderemos a programar en Python con la herramienta de Google Colab Research.\n",
        "\n",
        "También aprenderemos a guardar nuestros cambios a nuestro repositorio de github.com"
      ]
    },
    {
      "cell_type": "markdown",
      "metadata": {
        "id": "Ucli13q9DvjK"
      },
      "source": [
        "## Código de Ejemplo\n",
        "**negritas**\n",
        "_italica_\n",
        "\n",
        "`edad = 10\n",
        "print(edad)\n",
        "` \n",
        "`"
      ]
    },
    {
      "cell_type": "code",
      "metadata": {
        "id": "WL70KgVkJ5IP",
        "outputId": "b0c64a3e-c277-4b2a-89a7-ff5c8aa2936a",
        "colab": {
          "base_uri": "https://localhost:8080/",
          "height": 35
        }
      },
      "source": [
        "frutas = []\n",
        "frutas.append('manzanaz')\n",
        "frutas.append('piñas')\n",
        "frutas.append('kiwi')\n",
        "print (frutas)"
      ],
      "execution_count": 7,
      "outputs": [
        {
          "output_type": "stream",
          "text": [
            "['manzanaz', 'piñas', 'kiwi']\n"
          ],
          "name": "stdout"
        }
      ]
    },
    {
      "cell_type": "code",
      "metadata": {
        "id": "LKPVC9pUJ-Ch"
      },
      "source": [
        "archivo = open('prueba_daa.txt','wt')\n",
        "archivo.write(\"Hola Mundo Jupyter\")\n",
        "archivo.close()"
      ],
      "execution_count": 8,
      "outputs": []
    }
  ]
}