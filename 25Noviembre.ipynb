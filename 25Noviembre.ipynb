{
  "nbformat": 4,
  "nbformat_minor": 0,
  "metadata": {
    "colab": {
      "name": "25Noviembre.ipynb",
      "provenance": [],
      "authorship_tag": "ABX9TyP2M41pzpeQzKU19030GP9y",
      "include_colab_link": true
    },
    "kernelspec": {
      "name": "python3",
      "display_name": "Python 3"
    }
  },
  "cells": [
    {
      "cell_type": "markdown",
      "metadata": {
        "id": "view-in-github",
        "colab_type": "text"
      },
      "source": [
        "<a href=\"https://colab.research.google.com/github/ElydeAngel/daa_2021_1/blob/master/25Noviembre.ipynb\" target=\"_parent\"><img src=\"https://colab.research.google.com/assets/colab-badge.svg\" alt=\"Open In Colab\"/></a>"
      ]
    },
    {
      "cell_type": "code",
      "metadata": {
        "colab": {
          "base_uri": "https://localhost:8080/"
        },
        "id": "jyWTZNne5ccw",
        "outputId": "56d21409-d04a-44f7-8cb8-20b20c9cbad1"
      },
      "source": [
        "frase = \"\"\"El lema que anima a la Universidad Nacional, Por mi raza hablará el espíritu, revela la vocación humanística con la que fue concebida. El autor de esta célebre frase, José Vasconcelos, asumió la rectoría en 1920, en una época en que las esperanzas de la Revolución aún estaban vivas, había una gran fe en la Patria y el ánimo redentor se extendía en el ambiente.\"\"\"\n",
        "\n",
        "frase = frase.strip().replace(\"\\n\",\"\").replace(\",\",\"\").lower().split(\" \")   #Quita signo, pasa a minusculas, separa palabras y mete en una lista\n",
        "print(frase)\n",
        "frecuencias = {}\n",
        "for index in range (len(frase)):\n",
        "  if frase [index] in frecuencias:  # 'el' in frecuencias\n",
        "    pass\n",
        "  else:\n",
        "    frecuencias[frase[index]] = 1   # frecuencias ['el'] = 1 --> {'el':1}\n",
        "    for pivote in range (index +1, len(frase),1):\n",
        "      #print(frase[index], \"compara contra:\" , frase[pivote])\n",
        "      if frase[index] == frase[pivote]:\n",
        "        frecuencias[frase[index]] += 1\n",
        "print(frecuencias)"
      ],
      "execution_count": 2,
      "outputs": [
        {
          "output_type": "stream",
          "text": [
            "['el', 'lema', 'que', 'anima', 'a', 'la', 'universidad', 'nacional', 'por', 'mi', 'raza', 'hablará', 'el', 'espíritu', 'revela', 'la', 'vocación', 'humanística', 'con', 'la', 'que', 'fue', 'concebida.', 'el', 'autor', 'de', 'esta', 'célebre', 'frase', 'josé', 'vasconcelos', 'asumió', 'la', 'rectoría', 'en', '1920', 'en', 'una', 'época', 'en', 'que', 'las', 'esperanzas', 'de', 'la', 'revolución', 'aún', 'estaban', 'vivas', 'había', 'una', 'gran', 'fe', 'en', 'la', 'patria', 'y', 'el', 'ánimo', 'redentor', 'se', 'extendía', 'en', 'el', 'ambiente.']\n",
            "{'el': 5, 'lema': 1, 'que': 3, 'anima': 1, 'a': 1, 'la': 6, 'universidad': 1, 'nacional': 1, 'por': 1, 'mi': 1, 'raza': 1, 'hablará': 1, 'espíritu': 1, 'revela': 1, 'vocación': 1, 'humanística': 1, 'con': 1, 'fue': 1, 'concebida.': 1, 'autor': 1, 'de': 2, 'esta': 1, 'célebre': 1, 'frase': 1, 'josé': 1, 'vasconcelos': 1, 'asumió': 1, 'rectoría': 1, 'en': 5, '1920': 1, 'una': 2, 'época': 1, 'las': 1, 'esperanzas': 1, 'revolución': 1, 'aún': 1, 'estaban': 1, 'vivas': 1, 'había': 1, 'gran': 1, 'fe': 1, 'patria': 1, 'y': 1, 'ánimo': 1, 'redentor': 1, 'se': 1, 'extendía': 1, 'ambiente.': 1}\n"
          ],
          "name": "stdout"
        }
      ]
    },
    {
      "cell_type": "code",
      "metadata": {
        "colab": {
          "base_uri": "https://localhost:8080/"
        },
        "id": "HjVVAS3Z_mdB",
        "outputId": "2c45e2b7-577c-4c54-9c76-d5456cb4e9e0"
      },
      "source": [
        "frase = \"\"\"El lema que anima a la Universidad Nacional, Por mi raza hablará el espíritu, revela la vocación humanística con la que fue concebida. El autor de esta célebre frase, José Vasconcelos, asumió la rectoría en 1920, en una época en que las esperanzas de la Revolución aún estaban vivas, había una gran fe en la Patria y el ánimo redentor se extendía en el ambiente.\"\"\"\n",
        "frase = frase.strip().replace(\"\\n\",\"\").replace(\",\",\"\").lower().split(\" \")   #Quita signo, pasa a minusculas, separa palabras y mete en una lista\n",
        "print(frase)\n",
        "\n",
        "frecuencias = {} # diccionario\n",
        "for index in range(len(frase)): #recorre una sola vez\n",
        "  print(hash( frase[index]) )\n",
        "  if frase[index] in frecuencias:\n",
        "    frecuencias[frase[index]] += 1\n",
        "  else:\n",
        "    frecuencias[frase[index]] = 1\n",
        "print(frecuencias)\n"
      ],
      "execution_count": 4,
      "outputs": [
        {
          "output_type": "stream",
          "text": [
            "['el', 'lema', 'que', 'anima', 'a', 'la', 'universidad', 'nacional', 'por', 'mi', 'raza', 'hablará', 'el', 'espíritu', 'revela', 'la', 'vocación', 'humanística', 'con', 'la', 'que', 'fue', 'concebida.', 'el', 'autor', 'de', 'esta', 'célebre', 'frase', 'josé', 'vasconcelos', 'asumió', 'la', 'rectoría', 'en', '1920', 'en', 'una', 'época', 'en', 'que', 'las', 'esperanzas', 'de', 'la', 'revolución', 'aún', 'estaban', 'vivas', 'había', 'una', 'gran', 'fe', 'en', 'la', 'patria', 'y', 'el', 'ánimo', 'redentor', 'se', 'extendía', 'en', 'el', 'ambiente.']\n",
            "-6420825715739860024\n",
            "-3267096225767944473\n",
            "6047610273788763624\n",
            "-3327294466566997909\n",
            "-6999985278261386654\n",
            "-5853306873605185288\n",
            "-2370018837493743769\n",
            "3442657628610915374\n",
            "-3540575596727508260\n",
            "8732357658978860292\n",
            "6157369745521635824\n",
            "1497742989899001324\n",
            "-6420825715739860024\n",
            "2838000179673707862\n",
            "4902415110860913650\n",
            "-5853306873605185288\n",
            "-2272853733409959525\n",
            "-1790562958443373870\n",
            "-2903428457421741751\n",
            "-5853306873605185288\n",
            "6047610273788763624\n",
            "2476744260147196288\n",
            "-1179283161451881493\n",
            "-6420825715739860024\n",
            "-5666921058517157389\n",
            "1471715469393659690\n",
            "-8170025266296704636\n",
            "4177318711902954869\n",
            "-250230026231720605\n",
            "7575001863798271098\n",
            "-5599023044591901504\n",
            "3298137148539093647\n",
            "-5853306873605185288\n",
            "-811277114622954801\n",
            "534971966369562450\n",
            "-7984585798093365303\n",
            "534971966369562450\n",
            "2825450115223296436\n",
            "-8135030672224264166\n",
            "534971966369562450\n",
            "6047610273788763624\n",
            "2862228048235154126\n",
            "-4160240998206661216\n",
            "1471715469393659690\n",
            "-5853306873605185288\n",
            "-4057575655362849966\n",
            "-6745908737503104141\n",
            "7432291571042399636\n",
            "-7458703045859853786\n",
            "-1049079171517684492\n",
            "2825450115223296436\n",
            "-8463753400731575661\n",
            "5939465959475678223\n",
            "534971966369562450\n",
            "-5853306873605185288\n",
            "5596126206950465297\n",
            "-5412057018560123643\n",
            "-6420825715739860024\n",
            "-673635585896361419\n",
            "-6345420089723149580\n",
            "-3575011025375736507\n",
            "-3128676232897262845\n",
            "534971966369562450\n",
            "-6420825715739860024\n",
            "7846488063269184632\n",
            "{'el': 5, 'lema': 1, 'que': 3, 'anima': 1, 'a': 1, 'la': 6, 'universidad': 1, 'nacional': 1, 'por': 1, 'mi': 1, 'raza': 1, 'hablará': 1, 'espíritu': 1, 'revela': 1, 'vocación': 1, 'humanística': 1, 'con': 1, 'fue': 1, 'concebida.': 1, 'autor': 1, 'de': 2, 'esta': 1, 'célebre': 1, 'frase': 1, 'josé': 1, 'vasconcelos': 1, 'asumió': 1, 'rectoría': 1, 'en': 5, '1920': 1, 'una': 2, 'época': 1, 'las': 1, 'esperanzas': 1, 'revolución': 1, 'aún': 1, 'estaban': 1, 'vivas': 1, 'había': 1, 'gran': 1, 'fe': 1, 'patria': 1, 'y': 1, 'ánimo': 1, 'redentor': 1, 'se': 1, 'extendía': 1, 'ambiente.': 1}\n"
          ],
          "name": "stdout"
        }
      ]
    }
  ]
}