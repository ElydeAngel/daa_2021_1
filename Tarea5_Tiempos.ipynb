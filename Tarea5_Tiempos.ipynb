{
  "nbformat": 4,
  "nbformat_minor": 0,
  "metadata": {
    "colab": {
      "name": "Tarea5_Tiempos.ipynb",
      "provenance": [],
      "authorship_tag": "ABX9TyMKlnVAV6pzgmvrKkIE7dmR",
      "include_colab_link": true
    },
    "kernelspec": {
      "name": "python3",
      "display_name": "Python 3"
    }
  },
  "cells": [
    {
      "cell_type": "markdown",
      "metadata": {
        "id": "view-in-github",
        "colab_type": "text"
      },
      "source": [
        "<a href=\"https://colab.research.google.com/github/ElydeAngel/daa_2021_1/blob/master/Tarea5_Tiempos.ipynb\" target=\"_parent\"><img src=\"https://colab.research.google.com/assets/colab-badge.svg\" alt=\"Open In Colab\"/></a>"
      ]
    },
    {
      "cell_type": "code",
      "metadata": {
        "id": "fJUhutsvo7QW",
        "outputId": "55ccba1b-ae0c-4093-8ba9-9c61147ef649",
        "colab": {
          "base_uri": "https://localhost:8080/",
          "height": 199
        }
      },
      "source": [
        "from time import time\n",
        "\n",
        "def ejemplo1( n ):\n",
        "  start_time = time()\n",
        "  c = n + 1       #1\n",
        "  d = c * n       #2\n",
        "  e = n * n       #3\n",
        "  total = c + e - d\n",
        "  elapsed_time = time() - start_time\n",
        "  print(\"Tiempo transcurrido: %0.10f segundos.\" % elapsed_time)\n",
        "for entrada in range(100, 1100, 100):\n",
        "  ejemplo1( entrada )"
      ],
      "execution_count": 10,
      "outputs": [
        {
          "output_type": "stream",
          "text": [
            "Tiempo transcurrido: 0.0000009537 segundos.\n",
            "Tiempo transcurrido: 0.0000016689 segundos.\n",
            "Tiempo transcurrido: 0.0000007153 segundos.\n",
            "Tiempo transcurrido: 0.0000009537 segundos.\n",
            "Tiempo transcurrido: 0.0000004768 segundos.\n",
            "Tiempo transcurrido: 0.0000004768 segundos.\n",
            "Tiempo transcurrido: 0.0000002384 segundos.\n",
            "Tiempo transcurrido: 0.0000004768 segundos.\n",
            "Tiempo transcurrido: 0.0000004768 segundos.\n",
            "Tiempo transcurrido: 0.0000002384 segundos.\n"
          ],
          "name": "stdout"
        }
      ]
    },
    {
      "cell_type": "code",
      "metadata": {
        "id": "g9TYd3LzrSdR",
        "outputId": "5c3b3891-12dd-4202-8cf9-35cd02e46c35",
        "colab": {
          "base_uri": "https://localhost:8080/",
          "height": 199
        }
      },
      "source": [
        "from time import time\n",
        "\n",
        "def ejemplo2 (n):\n",
        "  start_time = time()\n",
        "  contador = 0          #1\n",
        "  for i in range (n):   #n\n",
        "    for j in range (n): #n^2\n",
        "      contador += 1\n",
        "  elapsed_time = time() - start_time\n",
        "  print(\"Tiempo transcurrido: %0.10f segundos.\" % elapsed_time)\n",
        "  return contador\n",
        "for entrada in range(100, 1100, 100):\n",
        "  ejemplo2(entrada)         #T(n) = 1 + n^2"
      ],
      "execution_count": 13,
      "outputs": [
        {
          "output_type": "stream",
          "text": [
            "Tiempo transcurrido: 0.0007860661 segundos.\n",
            "Tiempo transcurrido: 0.0029752254 segundos.\n",
            "Tiempo transcurrido: 0.0068268776 segundos.\n",
            "Tiempo transcurrido: 0.0085756779 segundos.\n",
            "Tiempo transcurrido: 0.0126724243 segundos.\n",
            "Tiempo transcurrido: 0.0196399689 segundos.\n",
            "Tiempo transcurrido: 0.0270729065 segundos.\n",
            "Tiempo transcurrido: 0.0329370499 segundos.\n",
            "Tiempo transcurrido: 0.0420024395 segundos.\n",
            "Tiempo transcurrido: 0.0531177521 segundos.\n"
          ],
          "name": "stdout"
        }
      ]
    },
    {
      "cell_type": "code",
      "metadata": {
        "id": "QBPtFlv_sqgO",
        "outputId": "09fffea8-4f2d-4fb1-97ba-524f76de489e",
        "colab": {
          "base_uri": "https://localhost:8080/",
          "height": 199
        }
      },
      "source": [
        "from time import time\n",
        "\n",
        "def ejemplo3( n ):\n",
        "  start_time = time()\n",
        "  x = n * 2               # x = 8 // 1\n",
        "  y = 0                   # y = 0 // 2\n",
        "  for m in range( 100 ):  #3      // 100\n",
        "    y = x - n           # y = 4\n",
        "  elapsed_time = time() - start_time\n",
        "  print(\"Tiempo transcurrido: %0.10f segundos.\" % elapsed_time)\n",
        "  return y\n",
        "for entrada in range(100, 1100, 100):\n",
        "  ejemplo3(entrada)         #T(n) = 102"
      ],
      "execution_count": 14,
      "outputs": [
        {
          "output_type": "stream",
          "text": [
            "Tiempo transcurrido: 0.0000047684 segundos.\n",
            "Tiempo transcurrido: 0.0000057220 segundos.\n",
            "Tiempo transcurrido: 0.0000088215 segundos.\n",
            "Tiempo transcurrido: 0.0000073910 segundos.\n",
            "Tiempo transcurrido: 0.0000088215 segundos.\n",
            "Tiempo transcurrido: 0.0000085831 segundos.\n",
            "Tiempo transcurrido: 0.0000092983 segundos.\n",
            "Tiempo transcurrido: 0.0000090599 segundos.\n",
            "Tiempo transcurrido: 0.0000088215 segundos.\n",
            "Tiempo transcurrido: 0.0000083447 segundos.\n"
          ],
          "name": "stdout"
        }
      ]
    },
    {
      "cell_type": "code",
      "metadata": {
        "id": "Z2FBguO9t_Q9",
        "outputId": "4562579a-5282-460f-c6a4-e33e8b3b41e8",
        "colab": {
          "base_uri": "https://localhost:8080/",
          "height": 199
        }
      },
      "source": [
        "from time import time\n",
        "\n",
        "def ejemplo4( n ):\n",
        "  start_time = time()\n",
        "  x = 3 * 3.1416 + n  #1\n",
        "  y = x + 3 * 3 - n   #2\n",
        "  z = x + y           #3\n",
        "  elapsed_time = time() - start_time\n",
        "  print(\"Tiempo transcurrido: %0.10f segundos.\" % elapsed_time)\n",
        "  return z\n",
        "for entrada in range(100, 1100, 100):\n",
        "  ejemplo4(entrada)"
      ],
      "execution_count": 15,
      "outputs": [
        {
          "output_type": "stream",
          "text": [
            "Tiempo transcurrido: 0.0000009537 segundos.\n",
            "Tiempo transcurrido: 0.0000007153 segundos.\n",
            "Tiempo transcurrido: 0.0000007153 segundos.\n",
            "Tiempo transcurrido: 0.0000002384 segundos.\n",
            "Tiempo transcurrido: 0.0000004768 segundos.\n",
            "Tiempo transcurrido: 0.0000002384 segundos.\n",
            "Tiempo transcurrido: 0.0000009537 segundos.\n",
            "Tiempo transcurrido: 0.0000004768 segundos.\n",
            "Tiempo transcurrido: 0.0000004768 segundos.\n",
            "Tiempo transcurrido: 0.0000004768 segundos.\n"
          ],
          "name": "stdout"
        }
      ]
    },
    {
      "cell_type": "code",
      "metadata": {
        "id": "VUhROqE3veBy",
        "outputId": "4d1b7be7-13f3-4498-80cd-ebc07adac3e0",
        "colab": {
          "base_uri": "https://localhost:8080/",
          "height": 199
        }
      },
      "source": [
        "from time import time\n",
        "\n",
        "def ejemplo5( x ):\n",
        "  start_time = time()\n",
        "  n = 10                        #1\n",
        "  for j in range( 0 , x , 1 ):  #x\n",
        "    n = j + n\n",
        "  elapsed_time = time() - start_time\n",
        "  print(\"Tiempo transcurrido: %0.10f segundos.\" % elapsed_time)\n",
        "  return n\n",
        "for entrada in range(100, 1100, 100):\n",
        "  ejemplo5(entrada)  #T(n) = 1 + x"
      ],
      "execution_count": 16,
      "outputs": [
        {
          "output_type": "stream",
          "text": [
            "Tiempo transcurrido: 0.0000090599 segundos.\n",
            "Tiempo transcurrido: 0.0000162125 segundos.\n",
            "Tiempo transcurrido: 0.0000245571 segundos.\n",
            "Tiempo transcurrido: 0.0000271797 segundos.\n",
            "Tiempo transcurrido: 0.0000417233 segundos.\n",
            "Tiempo transcurrido: 0.0000569820 segundos.\n",
            "Tiempo transcurrido: 0.0000627041 segundos.\n",
            "Tiempo transcurrido: 0.0000658035 segundos.\n",
            "Tiempo transcurrido: 0.0000855923 segundos.\n",
            "Tiempo transcurrido: 0.0000858307 segundos.\n"
          ],
          "name": "stdout"
        }
      ]
    },
    {
      "cell_type": "code",
      "metadata": {
        "id": "r_i6zYugwuSb",
        "outputId": "618b7266-ffd0-4329-b9e4-796e404cf1d5",
        "colab": {
          "base_uri": "https://localhost:8080/",
          "height": 199
        }
      },
      "source": [
        "from time import time\n",
        "\n",
        "def ejemplo6( n ):\n",
        "  start_time = time()\n",
        "  data=[[[1 for x in range(n)] for x in range(n)] for x in range(n)]\n",
        "  suma = 0\n",
        "  for d in range(n):\n",
        "    for r in range(n):\n",
        "      for c in range(n):\n",
        "        suma += data[d][r][c]\n",
        "  elapsed_time = time() - start_time\n",
        "  print(\"Tiempo transcurrido: %0.10f segundos.\" % elapsed_time)\n",
        "  return suma\n",
        "for entrada in range(100, 1100, 100):\n",
        "    ejemplo6( entrada )"
      ],
      "execution_count": 17,
      "outputs": [
        {
          "output_type": "stream",
          "text": [
            "Tiempo transcurrido: 0.1834034920 segundos.\n",
            "Tiempo transcurrido: 1.0301058292 segundos.\n",
            "Tiempo transcurrido: 3.7003247738 segundos.\n",
            "Tiempo transcurrido: 9.2785058022 segundos.\n",
            "Tiempo transcurrido: 17.7632863522 segundos.\n",
            "Tiempo transcurrido: 32.0415298939 segundos.\n",
            "Tiempo transcurrido: 52.2704403400 segundos.\n",
            "Tiempo transcurrido: 76.8756811619 segundos.\n",
            "Tiempo transcurrido: 111.5565621853 segundos.\n",
            "Tiempo transcurrido: 154.7451970577 segundos.\n"
          ],
          "name": "stdout"
        }
      ]
    }
  ]
}