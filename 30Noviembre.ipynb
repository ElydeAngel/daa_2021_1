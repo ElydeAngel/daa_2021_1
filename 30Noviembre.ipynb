{
  "nbformat": 4,
  "nbformat_minor": 0,
  "metadata": {
    "colab": {
      "name": "30Noviembre.ipynb",
      "provenance": [],
      "authorship_tag": "ABX9TyMMXOLSy+0RPXJacmSGxGaL",
      "include_colab_link": true
    },
    "kernelspec": {
      "name": "python3",
      "display_name": "Python 3"
    }
  },
  "cells": [
    {
      "cell_type": "markdown",
      "metadata": {
        "id": "view-in-github",
        "colab_type": "text"
      },
      "source": [
        "<a href=\"https://colab.research.google.com/github/ElydeAngel/daa_2021_1/blob/master/30Noviembre.ipynb\" target=\"_parent\"><img src=\"https://colab.research.google.com/assets/colab-badge.svg\" alt=\"Open In Colab\"/></a>"
      ]
    },
    {
      "cell_type": "code",
      "metadata": {
        "colab": {
          "base_uri": "https://localhost:8080/"
        },
        "id": "CavgDopOn1Mq",
        "outputId": "5eb338b4-16b5-47c2-d19e-ef71bd8c3c59"
      },
      "source": [
        "A = \"AELASESLALSALSALSALSALSALASLSLSLSLSALALALALASALSALLSALAS\"\n",
        "P = \"LAS\"\n",
        "N = len(A)    #Longitud de A\n",
        "M = len(P)    #Longitud de P\n",
        "\n",
        "def fuerza_bruta( A, P ):       #Recibe cadena A y P\n",
        "  for i in range ( N - M+1 ):   #i=0 cambia la posicion \n",
        "    for j in range ( M ):       #j=0-2 agarra la long de P \n",
        "      if A[i+j] != P[j]:        #Para comparar posición con longitud de P\n",
        "        break\n",
        "      else:\n",
        "        pass\n",
        "    if j+1 == M and A[i+j] == P[j]:            # j+1 == M es para verificar si ya llego al final de la cadena\n",
        "      print(\"Encontrado en la posición:\",i)    # Si pasa y es igual el patron y la cadena\n",
        "\n",
        "fuerza_bruta(A,P)\n",
        "\n",
        "#  i + j\n",
        "# 40 + 0 -> L == L\n",
        "# 40 + 1 -> A == A\n",
        "# 40 + 2 -> S == S\n",
        "\n",
        "#O( (N-M) * M )\n"
      ],
      "execution_count": 3,
      "outputs": [
        {
          "output_type": "stream",
          "text": [
            "Encontrado en la posición: 2\n",
            "Encontrado en la posición: 24\n",
            "Encontrado en la posición: 42\n",
            "Encontrado en la posición: 53\n"
          ],
          "name": "stdout"
        }
      ]
    }
  ]
}