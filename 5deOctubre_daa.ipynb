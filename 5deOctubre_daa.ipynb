{
  "nbformat": 4,
  "nbformat_minor": 0,
  "metadata": {
    "colab": {
      "name": "5deOctubre_daa.ipynb",
      "provenance": [],
      "authorship_tag": "ABX9TyN5okQbj46TWv1itB0Esa+/",
      "include_colab_link": true
    },
    "kernelspec": {
      "name": "python3",
      "display_name": "Python 3"
    }
  },
  "cells": [
    {
      "cell_type": "markdown",
      "metadata": {
        "id": "view-in-github",
        "colab_type": "text"
      },
      "source": [
        "<a href=\"https://colab.research.google.com/github/ElydeAngel/daa_2021_1/blob/master/5deOctubre_daa.ipynb\" target=\"_parent\"><img src=\"https://colab.research.google.com/assets/colab-badge.svg\" alt=\"Open In Colab\"/></a>"
      ]
    },
    {
      "cell_type": "markdown",
      "metadata": {
        "id": "AlhwSgHpFV12"
      },
      "source": [
        "# Estructura de datos Pila (Stack)\n",
        "* Last In First Out (LIFO)\n",
        "* De tipo lineal\n",
        "* Se pueden obtener e ingresar datos desde el tope\n",
        "* Push para agregar\n",
        "* Pop para sacar\n",
        "\n",
        "## Operaciones de las pilas\n",
        "1. is_empty (regresa true o false)\n",
        "2. get_top (regresa el elemento en el tope sin sacarlo)\n",
        "3. pop (sacar el elemebto del tope y lo regresa)\n",
        "4. push (mete un elemento en el tope)\n",
        "5. get_length (regresa el numero de elementos de la pila)\n"
      ]
    },
    {
      "cell_type": "code",
      "metadata": {
        "id": "alsykwXdJB9-"
      },
      "source": [
        "class stack:\n",
        "  def __init__ ( self ):\n",
        "    self._datos = []\n",
        "  \n",
        "  def is_empty ( self ):\n",
        "    return len(self._datos) == 0\n",
        "  \n",
        "  def get_top ( self ):\n",
        "    return self._datos[-1]\n",
        "  \n",
        "  def pop(self):\n",
        "    return self._datos.pop()\n",
        "  \n",
        "  def push(self, valor):\n",
        "    self._datos.append(valor)\n",
        "  \n",
        "  def get_length( self ):\n",
        "    return len(self._datos)\n",
        "  \n",
        "  def to_string( self ):\n",
        "    print(\"|==========|\")\n",
        "    for ele in self._datos[-1::-1]:\n",
        "      print(f\"{ ele }\")\n",
        "  print(\"|==========|\\n\")"
      ],
      "execution_count": null,
      "outputs": []
    },
    {
      "cell_type": "code",
      "metadata": {
        "id": "nR2YTaFQIVjq",
        "outputId": "d4b2dc24-e99e-4508-8745-fe46088666b2",
        "colab": {
          "base_uri": "https://localhost:8080/",
          "height": 545
        }
      },
      "source": [
        "pila1 = stack()\n",
        "pila1.push(10)\n",
        "pila1.push(20)\n",
        "pila1.push(1)\n",
        "pila1.push(393)\n",
        "pila1.push(103)\n",
        "pila1.to_string()\n",
        "\n",
        "sacando = pila1.pop()\n",
        "print(sacando)\n",
        "pila1.to_string()\n",
        "\n",
        "pila1.push(444)\n",
        "pila1.push(233)\n",
        "pila1.to_string()\n",
        "\n",
        "print(f\"El elemento en el top es: {pila1.get_top()}\")\n",
        "pila1.to_string()\n",
        "print(f\"La pila tiene {pila1.get_length()} \")\n",
        "print(f\"¿La pila esta vacia? : {pila1.is_empty()}\")"
      ],
      "execution_count": 19,
      "outputs": [
        {
          "output_type": "stream",
          "text": [
            "|==========|\n",
            "103\n",
            "393\n",
            "1\n",
            "20\n",
            "10\n",
            "103\n",
            "|==========|\n",
            "393\n",
            "1\n",
            "20\n",
            "10\n",
            "|==========|\n",
            "233\n",
            "444\n",
            "393\n",
            "1\n",
            "20\n",
            "10\n",
            "El elemento en el top es: 233\n",
            "|==========|\n",
            "233\n",
            "444\n",
            "393\n",
            "1\n",
            "20\n",
            "10\n",
            "La pila tiene 6 \n",
            "¿La pila esta vacia? : False\n"
          ],
          "name": "stdout"
        }
      ]
    },
    {
      "cell_type": "markdown",
      "metadata": {
        "id": "so0BPY-0YVac"
      },
      "source": [
        "# Ejemplo de aplicaci+on de pila\n",
        "\n",
        "x = 4+5+6+3\n",
        "\n",
        "x = 4+5+6+3\n",
        "\n",
        "x = 4+5+6+3\n",
        "\n",
        "if(a==b) {System.out..println(b)\n",
        "\n",
        "if(a==b) {System.out..println(b}\n",
        "\n",
        "#Reglas\n",
        "### '(' ---> push('@')\n",
        "### ')' ---> pop()\n",
        "\n",
        "Si al final del recorrido la pila esta vacia, entonces la cadena es correcta\n",
        "\n",
        "Si es un pop desencadena en querer sacar un elemento de la pila vacia, significa que la cadena no está balanceada.\n",
        "\n",
        "#TAREA\n",
        "Hacer un programa que valide ')' '{' '[' en programas c y java tomando como en base el codigo."
      ]
    }
  ]
}