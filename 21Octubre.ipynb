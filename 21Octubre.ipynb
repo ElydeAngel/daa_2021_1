{
  "nbformat": 4,
  "nbformat_minor": 0,
  "metadata": {
    "colab": {
      "name": "21Octubre.ipynb",
      "provenance": [],
      "authorship_tag": "ABX9TyOjB04znTEZN9CQ37ZNhFfj",
      "include_colab_link": true
    },
    "kernelspec": {
      "name": "python3",
      "display_name": "Python 3"
    }
  },
  "cells": [
    {
      "cell_type": "markdown",
      "metadata": {
        "id": "view-in-github",
        "colab_type": "text"
      },
      "source": [
        "<a href=\"https://colab.research.google.com/github/ElydeAngel/daa_2021_1/blob/master/21Octubre.ipynb\" target=\"_parent\"><img src=\"https://colab.research.google.com/assets/colab-badge.svg\" alt=\"Open In Colab\"/></a>"
      ]
    },
    {
      "cell_type": "markdown",
      "metadata": {
        "id": "kSuhvZzWqj6B"
      },
      "source": [
        "# Ejemplos vistos en la clase para\n",
        "## encontrar T(n) en cada algoritmo:"
      ]
    },
    {
      "cell_type": "code",
      "metadata": {
        "id": "TyX9twoce0L9",
        "outputId": "68fd907b-0774-45b3-f2a3-cb845fa07c03",
        "colab": {
          "base_uri": "https://localhost:8080/",
          "height": 35
        }
      },
      "source": [
        "def ejemplo1( n ):\n",
        "    c = n + 1       #1\n",
        "    d = c * n       #2\n",
        "    e = n * n       #3\n",
        "    total = c + e - d\n",
        "    print(f\"total={ total }\")\n",
        "ejemplo1( 99999 )   #T(n) = 3"
      ],
      "execution_count": 1,
      "outputs": [
        {
          "output_type": "stream",
          "text": [
            "total=1\n"
          ],
          "name": "stdout"
        }
      ]
    },
    {
      "cell_type": "code",
      "metadata": {
        "id": "_gHWgXI5e8ji",
        "outputId": "38319df9-ce06-48d7-8573-58ee8a1c45ce",
        "colab": {
          "base_uri": "https://localhost:8080/",
          "height": 35
        }
      },
      "source": [
        "def ejemplo2 (n):\n",
        "  contador = 0          #1\n",
        "  for i in range (n):   #n\n",
        "    for j in range (n): #n^2\n",
        "      contador += 1\n",
        "  return contador\n",
        "\n",
        "ejemplo2(36500)         #T(n) = 1 + n^2"
      ],
      "execution_count": 16,
      "outputs": [
        {
          "output_type": "execute_result",
          "data": {
            "text/plain": [
              "1332250000"
            ]
          },
          "metadata": {
            "tags": []
          },
          "execution_count": 16
        }
      ]
    },
    {
      "cell_type": "code",
      "metadata": {
        "id": "2PFSXdQXfLPw",
        "outputId": "9bde7a5f-2e4c-4b44-8d9a-6d3a5e65a2e5",
        "colab": {
          "base_uri": "https://localhost:8080/",
          "height": 35
        }
      },
      "source": [
        "def ejemplo3( n ):          # n=4\n",
        "    x = n * 2               # x = 8 // 1\n",
        "    y = 0                   # y = 0 // 2\n",
        "    for m in range( 100 ):  #3      // 100\n",
        "        y = x - n           # y = 4\n",
        "    return y\n",
        "\n",
        "ejemplo3(25870)             #T(n) = 102"
      ],
      "execution_count": 4,
      "outputs": [
        {
          "output_type": "execute_result",
          "data": {
            "text/plain": [
              "25870"
            ]
          },
          "metadata": {
            "tags": []
          },
          "execution_count": 4
        }
      ]
    },
    {
      "cell_type": "code",
      "metadata": {
        "id": "NcHjzNYrgHc_",
        "outputId": "7962d739-f11d-49ea-c77b-ce631d859e1a",
        "colab": {
          "base_uri": "https://localhost:8080/",
          "height": 35
        }
      },
      "source": [
        "def ejemplo4( n ):\n",
        "    x = 3 * 3.1416 + n  #1\n",
        "    y = x + 3 * 3 - n   #2\n",
        "    z = x + y           #3\n",
        "    return z\n",
        "\n",
        "ejemplo4(9)"
      ],
      "execution_count": 5,
      "outputs": [
        {
          "output_type": "execute_result",
          "data": {
            "text/plain": [
              "36.849599999999995"
            ]
          },
          "metadata": {
            "tags": []
          },
          "execution_count": 5
        }
      ]
    },
    {
      "cell_type": "code",
      "metadata": {
        "id": "ic3Pgy7bgMNM",
        "outputId": "062c9376-e5cd-4174-9621-f2fe1f2d00f5",
        "colab": {
          "base_uri": "https://localhost:8080/",
          "height": 35
        }
      },
      "source": [
        "def ejemplo5( x ):\n",
        "    n = 10                        #1\n",
        "    for j in range( 0 , x , 1 ):  #x\n",
        "        n = j + n\n",
        "    return n\n",
        "\n",
        "ejemplo5(10)  #T(n) = 1 + x"
      ],
      "execution_count": 6,
      "outputs": [
        {
          "output_type": "execute_result",
          "data": {
            "text/plain": [
              "55"
            ]
          },
          "metadata": {
            "tags": []
          },
          "execution_count": 6
        }
      ]
    },
    {
      "cell_type": "code",
      "metadata": {
        "id": "nIola5kGhBX5",
        "outputId": "5ada2fd9-5a7c-4bf5-97df-d626855ace54",
        "colab": {
          "base_uri": "https://localhost:8080/",
          "height": 35
        }
      },
      "source": [
        "def ejemplo6( n ):\n",
        "    data=[[[1 for x in range(n)] for x in range(n)] for x in range(n)]  #1\n",
        "    suma = 0                            #2\n",
        "    for d in range(n):                  #n\n",
        "        for r in range(n):              #n^2\n",
        "            for c in range(n):          #n^3\n",
        "                suma += data[d][r][c]\n",
        "    return suma\n",
        "print(ejemplo6( 100 ))                  #T(n) = 2 + n^3 "
      ],
      "execution_count": 15,
      "outputs": [
        {
          "output_type": "stream",
          "text": [
            "1000000\n"
          ],
          "name": "stdout"
        }
      ]
    },
    {
      "cell_type": "code",
      "metadata": {
        "id": "gs81AnXdmj5m",
        "outputId": "2747301f-e6fe-4acd-ef65-9b10252aca37",
        "colab": {
          "base_uri": "https://localhost:8080/",
          "height": 54
        }
      },
      "source": [
        "from time import time\n",
        "\n",
        "def ejemplo6( n ):\n",
        "    start_time = time()\n",
        "    data=[[[1 for x in range(n)] for x in range(n)] \n",
        "          for x in range(n)]\n",
        "    suma = 0\n",
        "    for d in range(n):\n",
        "        for r in range(n):\n",
        "            for c in range(n):\n",
        "                suma += data[d][r][c]\n",
        "    elapsed_time = time() - start_time\n",
        "    print(\"Tiempo transcurrido: %0.10f segundos.\" % elapsed_time)\n",
        "    return suma\n",
        "for entrada un range (100, 600, 100)\n",
        "    ejemplo6( entrada )"
      ],
      "execution_count": 17,
      "outputs": [
        {
          "output_type": "stream",
          "text": [
            "Tiempo transcurrido: 17.7294001579 segundos.\n"
          ],
          "name": "stdout"
        },
        {
          "output_type": "execute_result",
          "data": {
            "text/plain": [
              "125000000"
            ]
          },
          "metadata": {
            "tags": []
          },
          "execution_count": 17
        }
      ]
    }
  ]
}