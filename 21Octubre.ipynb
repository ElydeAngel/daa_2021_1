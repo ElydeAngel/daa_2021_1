{
  "nbformat": 4,
  "nbformat_minor": 0,
  "metadata": {
    "colab": {
      "name": "21Octubre.ipynb",
      "provenance": [],
      "authorship_tag": "ABX9TyM8nYXD40bk2pWl2vDAbd08",
      "include_colab_link": true
    },
    "kernelspec": {
      "name": "python3",
      "display_name": "Python 3"
    }
  },
  "cells": [
    {
      "cell_type": "markdown",
      "metadata": {
        "id": "view-in-github",
        "colab_type": "text"
      },
      "source": [
        "<a href=\"https://colab.research.google.com/github/ElydeAngel/daa_2021_1/blob/master/21Octubre.ipynb\" target=\"_parent\"><img src=\"https://colab.research.google.com/assets/colab-badge.svg\" alt=\"Open In Colab\"/></a>"
      ]
    },
    {
      "cell_type": "markdown",
      "metadata": {
        "id": "kSuhvZzWqj6B"
      },
      "source": [
        "# Ejemplos vistos en la clase para\n",
        "## encontrar T(n) en cada algoritmo:"
      ]
    },
    {
      "cell_type": "code",
      "metadata": {
        "id": "TyX9twoce0L9",
        "outputId": "68fd907b-0774-45b3-f2a3-cb845fa07c03",
        "colab": {
          "base_uri": "https://localhost:8080/",
          "height": 35
        }
      },
      "source": [
        "def ejemplo1( n ):\n",
        "    c = n + 1       #1\n",
        "    d = c * n       #2\n",
        "    e = n * n       #3\n",
        "    total = c + e - d\n",
        "    print(f\"total={ total }\")\n",
        "ejemplo1( 99999 )   #T(n) = 3"
      ],
      "execution_count": null,
      "outputs": [
        {
          "output_type": "stream",
          "text": [
            "total=1\n"
          ],
          "name": "stdout"
        }
      ]
    },
    {
      "cell_type": "code",
      "metadata": {
        "id": "_gHWgXI5e8ji",
        "outputId": "38319df9-ce06-48d7-8573-58ee8a1c45ce",
        "colab": {
          "base_uri": "https://localhost:8080/",
          "height": 35
        }
      },
      "source": [
        "def ejemplo2 (n):\n",
        "  contador = 0          #1\n",
        "  for i in range (n):   #n\n",
        "    for j in range (n): #n^2\n",
        "      contador += 1\n",
        "  return contador\n",
        "\n",
        "ejemplo2(36500)         #T(n) = 1 + n^2"
      ],
      "execution_count": null,
      "outputs": [
        {
          "output_type": "execute_result",
          "data": {
            "text/plain": [
              "1332250000"
            ]
          },
          "metadata": {
            "tags": []
          },
          "execution_count": 16
        }
      ]
    },
    {
      "cell_type": "code",
      "metadata": {
        "id": "2PFSXdQXfLPw",
        "outputId": "9bde7a5f-2e4c-4b44-8d9a-6d3a5e65a2e5",
        "colab": {
          "base_uri": "https://localhost:8080/",
          "height": 35
        }
      },
      "source": [
        "def ejemplo3( n ):          # n=4\n",
        "    x = n * 2               # x = 8 // 1\n",
        "    y = 0                   # y = 0 // 2\n",
        "    for m in range( 100 ):  #3      // 100\n",
        "        y = x - n           # y = 4\n",
        "    return y\n",
        "\n",
        "ejemplo3(25870)             #T(n) = 102"
      ],
      "execution_count": null,
      "outputs": [
        {
          "output_type": "execute_result",
          "data": {
            "text/plain": [
              "25870"
            ]
          },
          "metadata": {
            "tags": []
          },
          "execution_count": 4
        }
      ]
    },
    {
      "cell_type": "code",
      "metadata": {
        "id": "NcHjzNYrgHc_",
        "outputId": "7962d739-f11d-49ea-c77b-ce631d859e1a",
        "colab": {
          "base_uri": "https://localhost:8080/",
          "height": 35
        }
      },
      "source": [
        "def ejemplo4( n ):\n",
        "    x = 3 * 3.1416 + n  #1\n",
        "    y = x + 3 * 3 - n   #2\n",
        "    z = x + y           #3\n",
        "    return z\n",
        "ejemplo4(9)             #T(n) = 3"
      ],
      "execution_count": null,
      "outputs": [
        {
          "output_type": "execute_result",
          "data": {
            "text/plain": [
              "36.849599999999995"
            ]
          },
          "metadata": {
            "tags": []
          },
          "execution_count": 5
        }
      ]
    },
    {
      "cell_type": "code",
      "metadata": {
        "id": "ic3Pgy7bgMNM",
        "outputId": "062c9376-e5cd-4174-9621-f2fe1f2d00f5",
        "colab": {
          "base_uri": "https://localhost:8080/",
          "height": 35
        }
      },
      "source": [
        "def ejemplo5( x ):\n",
        "    n = 10                        #1\n",
        "    for j in range( 0 , x , 1 ):  #x\n",
        "        n = j + n\n",
        "    return n\n",
        "\n",
        "ejemplo5(10)  #T(n) = 1 + x"
      ],
      "execution_count": null,
      "outputs": [
        {
          "output_type": "execute_result",
          "data": {
            "text/plain": [
              "55"
            ]
          },
          "metadata": {
            "tags": []
          },
          "execution_count": 6
        }
      ]
    },
    {
      "cell_type": "code",
      "metadata": {
        "id": "nIola5kGhBX5",
        "outputId": "5ada2fd9-5a7c-4bf5-97df-d626855ace54",
        "colab": {
          "base_uri": "https://localhost:8080/",
          "height": 35
        }
      },
      "source": [
        "def ejemplo6( n ):\n",
        "    data=[[[1 for x in range(n)] for x in range(n)] for x in range(n)]  #1\n",
        "    suma = 0                            #2\n",
        "    for d in range(n):                  #n\n",
        "        for r in range(n):              #n^2\n",
        "            for c in range(n):          #n^3\n",
        "                suma += data[d][r][c]\n",
        "    return suma\n",
        "print(ejemplo6( 100 ))                  #T(n) = 2 + n^3 "
      ],
      "execution_count": null,
      "outputs": [
        {
          "output_type": "stream",
          "text": [
            "1000000\n"
          ],
          "name": "stdout"
        }
      ]
    },
    {
      "cell_type": "code",
      "metadata": {
        "id": "gs81AnXdmj5m",
        "outputId": "2747301f-e6fe-4acd-ef65-9b10252aca37",
        "colab": {
          "base_uri": "https://localhost:8080/",
          "height": 54
        }
      },
      "source": [
        "from time import time\n",
        "\n",
        "def ejemplo6( n ):\n",
        "    start_time = time()\n",
        "    data=[[[1 for x in range(n)] for x in range(n)] \n",
        "          for x in range(n)]\n",
        "    suma = 0\n",
        "    for d in range(n):\n",
        "        for r in range(n):\n",
        "            for c in range(n):\n",
        "                suma += data[d][r][c]\n",
        "    elapsed_time = time() - start_time\n",
        "    print(\"Tiempo transcurrido: %0.10f segundos.\" % elapsed_time)\n",
        "    return suma\n",
        "for entrada un range (100, 600, 100)\n",
        "    ejemplo6( entrada )"
      ],
      "execution_count": null,
      "outputs": [
        {
          "output_type": "stream",
          "text": [
            "Tiempo transcurrido: 17.7294001579 segundos.\n"
          ],
          "name": "stdout"
        },
        {
          "output_type": "execute_result",
          "data": {
            "text/plain": [
              "125000000"
            ]
          },
          "metadata": {
            "tags": []
          },
          "execution_count": 17
        }
      ]
    },
    {
      "cell_type": "code",
      "metadata": {
        "id": "ufbZpm_hziE7"
      },
      "source": [
        "def ejemplo7( n ):\n",
        "    count = 0                     #1\n",
        "    for i in range( n ) :         #n\n",
        "        for j in range( 25 ) :    #25\n",
        "            for k in range( n ):  #n^2\n",
        "                count += 1\n",
        "    return count\n",
        "\n",
        "    #T(n) 1 + 25n^2"
      ],
      "execution_count": null,
      "outputs": []
    },
    {
      "cell_type": "code",
      "metadata": {
        "id": "RZ3hAsKN0_WA",
        "outputId": "c7c7e286-0686-494b-a4e3-6c27f831ab16",
        "colab": {
          "base_uri": "https://localhost:8080/",
          "height": 35
        }
      },
      "source": [
        "#1+25n^2+25n^2 = 1 - 50n^2\n",
        "\n",
        "def ejemplo7_2( n ):\n",
        "    count = 0                       #!\n",
        "    for i in range( n ) :           #n\n",
        "        for j in range( 25 ) :      #25\n",
        "            for k in range( n ):    #n = 25n^2\n",
        "                count += 1          #+ <- Estan al mismo nivel los for\n",
        "            for k in range( n ):    #n = 25n^2\n",
        "                count += 1\n",
        "    return count \n",
        "ejemplo7_2( 3 )                 # T(n) = 1 + 25n^2 +25 n^2 = 1 = 50n^2\n",
        "# 1 + 50(3) = 450"
      ],
      "execution_count": null,
      "outputs": [
        {
          "output_type": "execute_result",
          "data": {
            "text/plain": [
              "450"
            ]
          },
          "metadata": {
            "tags": []
          },
          "execution_count": 1
        }
      ]
    },
    {
      "cell_type": "code",
      "metadata": {
        "id": "C-vXysU43lcu"
      },
      "source": [
        "def ejemplo8( numeros ): # numeros es una lista (arreglo en c)\n",
        "    total = 0                           #1\n",
        "    for index in range(len(numeros)):   #n\n",
        "        total = numeros[index]\n",
        "    return total\n",
        "ejemplo8(numeros)                       #T(n) = 1 + n\n",
        "                                        #O(n) = n"
      ],
      "execution_count": null,
      "outputs": []
    },
    {
      "cell_type": "code",
      "metadata": {
        "id": "CoDk_wa-4L3f",
        "outputId": "760abec6-6120-491e-ca04-260672e0eb71",
        "colab": {
          "base_uri": "https://localhost:8080/",
          "height": 35
        }
      },
      "source": [
        "def ejemplo9(  n ):\n",
        "    contador = 0                #1\n",
        "    basura = 0                  #2\n",
        "    for i in range( n ) :       #n\n",
        "        contador += 1           #+\n",
        "    for j in range( n ) :       #n\n",
        "        contador += 1\n",
        "    basura = basura + contador  #3\n",
        "    return contador\n",
        "print(ejemplo9( 5 ))            #T(n) = 3 + 2n"
      ],
      "execution_count": null,
      "outputs": [
        {
          "output_type": "stream",
          "text": [
            "10\n"
          ],
          "name": "stdout"
        }
      ]
    },
    {
      "cell_type": "code",
      "metadata": {
        "id": "g8wN_Cpg4zkh",
        "outputId": "e7107cb4-f10e-4790-aedb-154294d4e79e",
        "colab": {
          "base_uri": "https://localhost:8080/",
          "height": 35
        }
      },
      "source": [
        "def ejemplo10( n ):\n",
        "    count = 0                     #1\n",
        "    for i in range( n ) :         #n\n",
        "        for j in range( i+1 ) :   #n + 1  / 2 <- porque i esta en el primer for, i controla a n\n",
        "            count += 1            \n",
        "    return count                  #T(n) = 1 + (n(n+1))/2 = 1 + (n^2+n)/2\n",
        "print(ejemplo10(4))\n",
        "\n",
        "#Ejemplos:\n",
        "#(1^2 + 1)/2 = 1\n",
        "#(2^2 + 2)/2 = 3\n",
        "#(3^2 + 3)/2 = 6\n",
        "#(4^2 + 4)/2 = 10\n",
        "\n",
        "# Por qué?\n",
        "# Es +1 porque Se forza a que se haga 1 vuelta más\n",
        "\n",
        "#Sí le quitamos +1, se pone -n porque se elimina el tope\n",
        "#Quedaría -> (n^2 - n)/2\n",
        "\n",
        "#Para entender mejor por qué entre 2\n",
        "# Si n = 4\n",
        "# 0000\n",
        "# n000  <- Aquí empieza el for interno\n",
        "# nn00   \n",
        "# nnn0  <- Aquí termina el for   \n",
        "# nnnn\n",
        "# Es entre 2 porque se realizan la mitad del cuadro no se realiza,\n",
        "# es decir, se realiza la mitad de operaciones"
      ],
      "execution_count": 1,
      "outputs": [
        {
          "output_type": "stream",
          "text": [
            "10\n"
          ],
          "name": "stdout"
        }
      ]
    },
    {
      "cell_type": "code",
      "metadata": {
        "id": "5Jyd3m14hISi",
        "outputId": "786ca754-7182-41ea-86f8-2c7399d10b28",
        "colab": {
          "base_uri": "https://localhost:8080/",
          "height": 35
        }
      },
      "source": [
        "def ejemplo11( n ):\n",
        "    count = 0         #1\n",
        "    i = n             #2\n",
        "    while i > 1 :     #i ya es n\n",
        "        count += 1    #\n",
        "        i = i // 2    #\n",
        "    return count\n",
        "print(ejemplo11(16))\n",
        "# T(n) =  2 + (2 Log 2 n)"
      ],
      "execution_count": 2,
      "outputs": [
        {
          "output_type": "stream",
          "text": [
            "4\n"
          ],
          "name": "stdout"
        }
      ]
    },
    {
      "cell_type": "code",
      "metadata": {
        "id": "RcW0buJFh01W",
        "outputId": "daafc74f-89e5-464d-b61b-e8718b726669",
        "colab": {
          "base_uri": "https://localhost:8080/",
          "height": 35
        }
      },
      "source": [
        "def ejemplo12( n ):\n",
        "    contador = 0                      #1\n",
        "    for x in range(n):                #+ n\n",
        "        contador += ejemplo11(x)      #por lo que vale T(n) del ejemplo 11\n",
        "    return contado\n",
        "                                      #T(n) = 1 + n (2 + 2log2 (n))\n",
        "\n",
        "def ejemplo12_bis( n=5 ):\n",
        "    contador = 0\n",
        "    contador = contador + ejemplo11(0) # 0\n",
        "    contador = contador + ejemplo11(1) # 0\n",
        "    contador = contador + ejemplo11(2) # 1\n",
        "    contador = contador + ejemplo11(3) # 1\n",
        "    contador = contador + ejemplo11(4) # 2\n",
        "    return contador\n",
        "ejemplo12_bis( 5 )"
      ],
      "execution_count": 9,
      "outputs": [
        {
          "output_type": "execute_result",
          "data": {
            "text/plain": [
              "4"
            ]
          },
          "metadata": {
            "tags": []
          },
          "execution_count": 9
        }
      ]
    },
    {
      "cell_type": "code",
      "metadata": {
        "id": "JdoxuTH4mZrX",
        "outputId": "2f52e7c0-1315-403d-d01b-9723bdabc740",
        "colab": {
          "base_uri": "https://localhost:8080/",
          "height": 90
        }
      },
      "source": [
        "def ejemplo13( x ):\n",
        "    bandera = x\n",
        "    contador = 0                      #1\n",
        "    while( bandera >= 10):\n",
        "        print(f\" x = { bandera } \")\n",
        "        bandera /= 10                 #+ log10(x) <- x porque bandera = x\n",
        "        contador = contador + 1\n",
        "    print(contador)\n",
        "                                      # T(x) = 1 + log10 (x)\n",
        "ejemplo13( 1000 )"
      ],
      "execution_count": 10,
      "outputs": [
        {
          "output_type": "stream",
          "text": [
            " x = 1000 \n",
            " x = 100.0 \n",
            " x = 10.0 \n",
            "3\n"
          ],
          "name": "stdout"
        }
      ]
    },
    {
      "cell_type": "code",
      "metadata": {
        "id": "3-gKEocwogRr",
        "outputId": "c3f52568-a29d-485f-ee78-ca94f6bbd863",
        "colab": {
          "base_uri": "https://localhost:8080/",
          "height": 35
        }
      },
      "source": [
        "def ejemplo14( n ):\n",
        "    y = n\n",
        "    z = n\n",
        "    contador = 0\n",
        "    while y >= 3:          #3  /// 1\n",
        "        y /= 3             #1  /// log3\n",
        "        contador += 1      # cont =3\n",
        "    \n",
        "    while z >= 3:          #27 /// 2\n",
        "        z /= 3             #log3\n",
        "        contador += 1      #cont=1 <- Va en aumento hasta que sea >=3\n",
        "    return contador\n",
        "print(ejemplo14( 27 )) \n",
        "\n",
        "#T(n) = 2 log3(n)"
      ],
      "execution_count": 11,
      "outputs": [
        {
          "output_type": "stream",
          "text": [
            "6\n"
          ],
          "name": "stdout"
        }
      ]
    },
    {
      "cell_type": "code",
      "metadata": {
        "id": "ybVwHU1YogBU"
      },
      "source": [
        "def ejemplo15( n ): \n",
        "    contador = 0                  #1\n",
        "    for i in range( n ) :         #+n\n",
        "        for j in range( n ) :     #+n\n",
        "            contador += 1\n",
        "            \n",
        "    while n > 1 :\n",
        "        contador += 1\n",
        "        n /= 2                    #+log2(n)\n",
        "    return contador\n",
        "\n",
        "print(ejemplo15(10))\n",
        "\n",
        "#T(n) = 1 +n^2 + log2(n)"
      ],
      "execution_count": null,
      "outputs": []
    }
  ]
}