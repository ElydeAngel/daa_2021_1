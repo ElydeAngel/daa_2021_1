{
  "nbformat": 4,
  "nbformat_minor": 0,
  "metadata": {
    "colab": {
      "name": "02Diciembre.ipynb",
      "provenance": [],
      "authorship_tag": "ABX9TyO3v25uNamFA6a0yDVaGXH5",
      "include_colab_link": true
    },
    "kernelspec": {
      "name": "python3",
      "display_name": "Python 3"
    }
  },
  "cells": [
    {
      "cell_type": "markdown",
      "metadata": {
        "id": "view-in-github",
        "colab_type": "text"
      },
      "source": [
        "<a href=\"https://colab.research.google.com/github/ElydeAngel/daa_2021_1/blob/master/02Diciembre.ipynb\" target=\"_parent\"><img src=\"https://colab.research.google.com/assets/colab-badge.svg\" alt=\"Open In Colab\"/></a>"
      ]
    },
    {
      "cell_type": "code",
      "metadata": {
        "id": "U-rTQbfb_vFC"
      },
      "source": [
        "def fnRecInfinita():\n",
        "  print(\"Hola\")\n",
        "  fnRecInfinita()\n"
      ],
      "execution_count": 2,
      "outputs": []
    },
    {
      "cell_type": "code",
      "metadata": {
        "id": "7l03Ka5T_71q"
      },
      "source": [
        "fnRecInfinita()"
      ],
      "execution_count": null,
      "outputs": []
    },
    {
      "cell_type": "code",
      "metadata": {
        "colab": {
          "base_uri": "https://localhost:8080/"
        },
        "id": "bGrnxiwhAQJe",
        "outputId": "a9a824c6-504c-4af6-e6a7-7bdd30e8c168"
      },
      "source": [
        "def fnRec( x ):\n",
        "  if x == 0:\n",
        "    print(\"Stop\")\n",
        "  else:\n",
        "    print( x )\n",
        "    fnRec( x-1 )\n",
        "\n",
        "def main():\n",
        "  print(\"Inicio de programa\")\n",
        "  fnRec( 5 )\n",
        "  print(\"Fin del programa\")\n",
        "\n",
        "main()\n"
      ],
      "execution_count": 7,
      "outputs": [
        {
          "output_type": "stream",
          "text": [
            "Inicio de programa\n",
            "5\n",
            "4\n",
            "3\n",
            "2\n",
            "1\n",
            "Stop\n",
            "Fin del programa\n"
          ],
          "name": "stdout"
        }
      ]
    },
    {
      "cell_type": "code",
      "metadata": {
        "colab": {
          "base_uri": "https://localhost:8080/"
        },
        "id": "UULSj0BOBbFF",
        "outputId": "6baa8d10-e67e-44f8-c216-25862b6ad4c2"
      },
      "source": [
        "def printRev( x ):    # Representa la pila de llamadas\n",
        "  if x > 0:           # Evalua si 3, 2, 1 o 0 son mayores que 0\n",
        "    print( x )        # Imprime 3\n",
        "    printRev ( x-1 )  # Se le resta 1 a 3 y aquí va sacando de la pila\n",
        "                  \n",
        "printRev( 3 )"
      ],
      "execution_count": 5,
      "outputs": [
        {
          "output_type": "stream",
          "text": [
            "3\n",
            "2\n",
            "1\n"
          ],
          "name": "stdout"
        }
      ]
    },
    {
      "cell_type": "code",
      "metadata": {
        "colab": {
          "base_uri": "https://localhost:8080/"
        },
        "id": "CN4NVQihEH0q",
        "outputId": "651ff05c-dfe6-424d-8579-5bc25158057f"
      },
      "source": [
        "def printRev( x ):    # Representa la pila de llamadas\n",
        "  if x > 0:           # Evalua si 3, 2, 1 o 0 son mayores que 0\n",
        "    printRev ( x-1 )  # Sólamente vuelve a llamarse a si misma pero con un valor menos\n",
        "    print( x )        # Después de que ya no se cumpla el IF pasa a este print  \n",
        "                  \n",
        "printRev( 3 )"
      ],
      "execution_count": 6,
      "outputs": [
        {
          "output_type": "stream",
          "text": [
            "1\n",
            "2\n",
            "3\n"
          ],
          "name": "stdout"
        }
      ]
    },
    {
      "cell_type": "markdown",
      "metadata": {
        "id": "CmQms9lXGt4X"
      },
      "source": [
        "##Serie de Fibinacci\n",
        "### **F(n - 1) + F(n - 2) si n > 1**\n",
        "\n",
        "\n",
        "> f(0) = 0   si n = 0\n",
        "\n",
        "> f(1) = 1   si n = 1\n",
        "\n",
        "> f(2) = F(2-1) + F(2-2) = 1 + 0 = 1\n",
        "\n",
        "> f(3) = F(3-1) + F(3-2) = 2 + 1 = 3\n",
        " \n",
        "y asi sucesivamente\n"
      ]
    },
    {
      "cell_type": "code",
      "metadata": {
        "colab": {
          "base_uri": "https://localhost:8080/"
        },
        "id": "bY5FgKH3Ir-p",
        "outputId": "7de5689b-8ad4-4bdc-9756-9ea695069502"
      },
      "source": [
        "def fibonacci( n ):\n",
        "  if n == 1 or n == 0:\n",
        "    return n\n",
        "  else:\n",
        "    return( fibonacci(n-1) + fibonacci(n-2) )\n",
        "\n",
        "print(fibonacci(8))"
      ],
      "execution_count": 9,
      "outputs": [
        {
          "output_type": "stream",
          "text": [
            "21\n"
          ],
          "name": "stdout"
        }
      ]
    }
  ]
}